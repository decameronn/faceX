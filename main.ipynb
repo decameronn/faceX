{
 "metadata": {
  "language_info": {
   "codemirror_mode": {
    "name": "ipython",
    "version": 3
   },
   "file_extension": ".py",
   "mimetype": "text/x-python",
   "name": "python",
   "nbconvert_exporter": "python",
   "pygments_lexer": "ipython3",
   "version": "3.8.5-final"
  },
  "orig_nbformat": 2,
  "kernelspec": {
   "name": "python3",
   "display_name": "Python 3",
   "language": "python"
  }
 },
 "nbformat": 4,
 "nbformat_minor": 2,
 "cells": [
  {
   "cell_type": "code",
   "execution_count": 33,
   "metadata": {},
   "outputs": [],
   "source": [
    "# Standard libraries import\n",
    "import cv2 as cv"
   ]
  },
  {
   "cell_type": "code",
   "execution_count": 34,
   "metadata": {},
   "outputs": [],
   "source": [
    "# Load image into memory\n",
    "# Convert image to grayscale for Viola-Jones (already pre-trained)\n",
    "image = cv.imread('./sample/img/test_img.jpg')\n",
    "gs_image = cv.cvtColor(image, cv.COLOR_BGR2GRAY)"
   ]
  },
  {
   "cell_type": "code",
   "execution_count": 35,
   "metadata": {},
   "outputs": [],
   "source": [
    "# Load Viola-Jones classifier\n",
    "# Store all detections from the target image\n",
    "face_profile = cv.CascadeClassifier('./sample/cascade/haarcascade_frontalface_alt.xml')\n",
    "detected_faces = face_profile.detectMultiScale(gs_image)"
   ]
  },
  {
   "cell_type": "code",
   "execution_count": 36,
   "metadata": {},
   "outputs": [],
   "source": [
    "# Draw rectangles over detected faces with OpenCV\n",
    "# Arguments: image, top-left, bottom-right, rectangle color, thickness of rectangle\n",
    "for (column, row, width, height) in detected_faces:\n",
    "    cv.rectangle(\n",
    "        image,\n",
    "        (column, row),\n",
    "        (column + width, row + height),\n",
    "        (122, 255, 122),\n",
    "        2\n",
    "    )    "
   ]
  },
  {
   "cell_type": "code",
   "execution_count": 37,
   "metadata": {},
   "outputs": [],
   "source": [
    "# Display the image (prevent closing it via wait-for-event)\n",
    "cv.imshow('Image', image)\n",
    "cv.waitKey(0)\n",
    "cv.destroyAllWindows()"
   ]
  }
 ]
}